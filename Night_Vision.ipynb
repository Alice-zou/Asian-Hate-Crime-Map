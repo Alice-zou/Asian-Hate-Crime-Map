{
  "nbformat": 4,
  "nbformat_minor": 0,
  "metadata": {
    "colab": {
      "name": "Night_Vision.ipynb",
      "provenance": [],
      "authorship_tag": "ABX9TyO1NJIbK6Jnj4O/n0jONlxI",
      "include_colab_link": true
    },
    "kernelspec": {
      "name": "python3",
      "display_name": "Python 3"
    },
    "language_info": {
      "name": "python"
    }
  },
  "cells": [
    {
      "cell_type": "markdown",
      "metadata": {
        "id": "view-in-github",
        "colab_type": "text"
      },
      "source": [
        "<a href=\"https://colab.research.google.com/github/Alice-zou/Asian-Hate-Crime-Map/blob/main/Night_Vision.ipynb\" target=\"_parent\"><img src=\"https://colab.research.google.com/assets/colab-badge.svg\" alt=\"Open In Colab\"/></a>"
      ]
    },
    {
      "cell_type": "code",
      "metadata": {
        "id": "zywOKMeIZ6Db"
      },
      "source": [
        "from PIL import Image, ImageEnhance"
      ],
      "execution_count": null,
      "outputs": []
    },
    {
      "cell_type": "code",
      "metadata": {
        "colab": {
          "base_uri": "https://localhost:8080/"
        },
        "id": "aMeTs2UUaJ3J",
        "outputId": "20cf4c91-b4f8-4e14-adb7-7997bd911db2"
      },
      "source": [
        "from google.colab import drive\n",
        "drive.mount(\"/content/drive\")"
      ],
      "execution_count": null,
      "outputs": [
        {
          "output_type": "stream",
          "text": [
            "Mounted at /content/drive\n"
          ],
          "name": "stdout"
        }
      ]
    },
    {
      "cell_type": "code",
      "metadata": {
        "id": "i_7vGdGwaAsE"
      },
      "source": [
        "#read the image\n",
        "im = Image.open(\"/content/drive/MyDrive/0716/results/20.png\")"
      ],
      "execution_count": null,
      "outputs": []
    },
    {
      "cell_type": "code",
      "metadata": {
        "id": "X1VlmzcyatpJ"
      },
      "source": [
        "#image brightness enhancer\n",
        "enhancer = ImageEnhance.Brightness(im)\n",
        "\n",
        "factor = 1 #gives original image\n",
        "im_output = enhancer.enhance(factor)\n",
        "im_output.save('/content/drive/MyDrive/original-image.png')\n",
        "\n",
        "factor = 0.5 #darkens the image\n",
        "im_output = enhancer.enhance(factor)\n",
        "im_output.save('/content/drive/MyDrive/darkened-image.png')\n",
        "\n",
        "factor = 1.5 #brightens the image\n",
        "im_output = enhancer.enhance(factor)\n",
        "im_output.save('/content/drive/MyDrive/brightened-image.png')"
      ],
      "execution_count": null,
      "outputs": []
    }
  ]
}